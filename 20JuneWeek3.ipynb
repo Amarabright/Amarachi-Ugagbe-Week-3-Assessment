{
 "cells": [
  {
   "cell_type": "code",
   "execution_count": 7,
   "id": "58e8812e",
   "metadata": {},
   "outputs": [],
   "source": [
    "import json"
   ]
  },
  {
   "cell_type": "code",
   "execution_count": 12,
   "id": "d3cf8c27",
   "metadata": {},
   "outputs": [
    {
     "name": "stdout",
     "output_type": "stream",
     "text": [
      "{}\n"
     ]
    }
   ],
   "source": [
    "with open('complaints.json', 'r') as comp:\n",
    "    complaints = json.load(comp)\n",
    "    print(complaints)"
   ]
  },
  {
   "cell_type": "code",
   "execution_count": 13,
   "id": "fb217740",
   "metadata": {},
   "outputs": [],
   "source": [
    "user_complain = \"\""
   ]
  },
  {
   "cell_type": "code",
   "execution_count": 14,
   "id": "950fd938",
   "metadata": {},
   "outputs": [],
   "source": [
    "language = \"\""
   ]
  },
  {
   "cell_type": "code",
   "execution_count": 15,
   "id": "024986a9",
   "metadata": {},
   "outputs": [],
   "source": [
    "source=\"\""
   ]
  },
  {
   "cell_type": "code",
   "execution_count": 16,
   "id": "4edda75e",
   "metadata": {},
   "outputs": [],
   "source": [
    "target = \"\""
   ]
  },
  {
   "cell_type": "code",
   "execution_count": 17,
   "id": "7f478cfe",
   "metadata": {},
   "outputs": [],
   "source": [
    "translated_text = \"\""
   ]
  },
  {
   "cell_type": "code",
   "execution_count": 18,
   "id": "cab8ad8c",
   "metadata": {},
   "outputs": [],
   "source": [
    "list_of_languages = [\"Afrikaans\", \"Albanian\",\"Amharic\",\"Arabic\",\"Armenian\",\"Azerbaijani\",\"Basque\",\"Belarusian\",\"Bengali\",\"Bosnian\",\"Bulgarian\",\"Catalan\",\"Cebuano\",\"Chinese (Simplified)\",\"Chinese (Traditional)\",\"Corsican\",\"Croatian\",\"Czech\",\"Danish\",\"Dutch\",\"English\",\"Esperanto\",\"Estonian\",\"Finnish\",\"French\",\"Frisian\",\"Galician\",\"Georgian\",\"German\",\"Greek\",\"Gujarati\",\"Haitian Creole\",\"Hausa\",\"Hawaiian\",\"Hebrew\",\"Hindi\",\"Hmong\",\"Hungarian\",\"Icelandic\",\"Igbo\",\"Indonesian\",\"Irish\",\"Italian\",\"Japanese\",\"Javanese\",\"Kannada\",\"Kazakh\",\"Khmer\",\"Kinyarwanda\",\"Korean\",\"Kurdish\",\"Kyrgyz\",\"Lao\",\"Latin\",\"Latvian\",\"Lithuanian\",\"Luxembourgish\",\"Macedonian\",\"Malagasy\",\"Malay\",\"Malayalam\",\"Maltese\",\"Maori\",\"Marathi\",\"Mongolian\",\"Myanmar\",\"Nepali\",\"Norwegian\",\"Nyanja\",\"Odia\",\"Pashto\",\"Persian\",\"Polish\",\"Portuguese\",\"Punjabi\",\"Romanian\",\"Russian\",\"Samoan\",\"Scots Gaelic\",\"Serbian\",\"Sesotho\",\"Shona\",\"Sindhi\",\"Sinhala\",\"Slovak\",\"Slovenian\",\"Somali\",\"Spanish\",\"Sundanese\",\"Swahili\",\"Swedish\",\"Filipino\",\"Tajik\",\"Tamil\",\"Tatar\",\"Telugu\",\"Thai\",\"Turkish\",\"Turkmen\",\"Ukrainian\",\"Urdu\",\"Uyghur\",\"Uzbek\",\"Vietnamese\",\"Welsh\",\"Xhosa\",\"Yiddish\",\"Yoruba\",\"Zulu\"]"
   ]
  },
  {
   "cell_type": "code",
   "execution_count": 19,
   "id": "677a9cec",
   "metadata": {},
   "outputs": [],
   "source": [
    "abbr_languages = [\"af\",\"sq\",\"am\",\"ar\",\"hy\",\"az\",\"eu\",\"be\",\"bn\",\"bs\",\"bg\",\"ca\",\"ceb\",\"zh-CN\",\"zh-TW\",\"co\",\"hr\",\"cs\",\"da\",\"nl\",\"en\",\"eo\",\"et\",\"fi\",\"fr\",\"fy\",\"gl\",\"ka\",\"de\",\"el\",\"gu\",\"ht\",\"ha\",\"haw\",\"he\",\"hi\",\"hmn\",\"hu\",\"is\",\"ig\",\"id\",\"ga\",\"it\",\"ja\",\"jv\",\"kn\",\"kk\",\"km\",\"rw\",\"ko\",\"ku\",\"ky\",\"lo\",\"la\",\"lv\",\"lt\",\"lb\",\"mk\",\"mg\",\"ms\",\"ml\",\"mt\",\"mi\",\"mr\",\"mn\",\"my\",\"ne\",\"no\",\"ny\",\"or\",\"ps\",\"fa\",\"pl\",\"pt\",\"pa\",\"ro\",\"ru\",\"sm\",\"gd\",\"sr\",\"st\",\"sn\",\"sd\",\"si\",\"sk\",\"sl\",\"so\",\"es\",\"su\",\"sw\",\"sv\",\"tl\",\"tg\",\"ta\",\"tt\",\"te\",\"th\",\"tr\",\"tk\",\"uk\",\"ur\",\"ug\",\"uz\",\"vi\",\"cy\",\"xh\",\"yi\",\"yo\",\"zu\"]"
   ]
  },
  {
   "cell_type": "code",
   "execution_count": 20,
   "id": "15d7661d",
   "metadata": {},
   "outputs": [],
   "source": [
    "def user():\n",
    "    user_complaint = {}\n",
    "    name = input(\"Hello, Please enter your name: \\n\").title()\n",
    "    print(f'\\nWelcome, {name} \\n')\n",
    "    complaint=input(\"Please state your complaint: \\n\")\n",
    "    user_complaint[name] = complaint\n",
    "    complaints.append(user_complaint)"
   ]
  },
  {
   "cell_type": "code",
   "execution_count": 21,
   "id": "35da2d90",
   "metadata": {},
   "outputs": [
    {
     "name": "stdout",
     "output_type": "stream",
     "text": [
      "\n",
      "Your complaint has been submitted successfully\n"
     ]
    }
   ],
   "source": [
    " with open(\"complaints.json\", 'w') as comp:\n",
    "        json.dump(complaints, comp)\n",
    "        print('\\nYour complaint has been submitted successfully')"
   ]
  },
  {
   "cell_type": "code",
   "execution_count": 22,
   "id": "efe5d6a0",
   "metadata": {},
   "outputs": [],
   "source": [
    "def detect_language():\n",
    "\n",
    "    url = \"https://google-translate1.p.rapidapi.com/language/translate/v2/detect\"\n",
    "\n",
    "    long_list_of_words = user_complain.split(' ')\n",
    "    url_encoded_text = f\"q={'%20'.join(long_list_of_words)}\"\n",
    " \n",
    "    payload = url_encoded_text\n",
    "    headers = {\n",
    "        'content-type': \"application/x-www-form-urlencoded\",\n",
    "        'accept-encoding': \"application/gzip\",\n",
    "        'x-rapidapi-key': \"ad487c78e7mshdfaae5d83f29c4cp1c2eecjsnacf3c5d3b463\",\n",
    "        'x-rapidapi-host': \"google-translate1.p.rapidapi.com\"\n",
    "        }\n",
    "\n",
    "    response = request(\"POST\", url, data=payload, headers=headers)\n",
    "    \n",
    "    detected_lang = response.json()\n",
    "    detected_language = detected_lang['data']['detections'][0][0]['language']\n",
    "\n",
    "    global source\n",
    "    source = detected_language\n",
    "    if detected_language in abbr_languages:\n",
    "        index = abbr_languages.index(detected_language)\n",
    "        global language\n",
    "        language = list_of_languages[index]\n",
    "    \n",
    "    return language, source"
   ]
  },
  {
   "cell_type": "code",
   "execution_count": 23,
   "id": "7ae4e8e4",
   "metadata": {},
   "outputs": [],
   "source": [
    "def translate_text():\n",
    "\n",
    "    url = \"https://google-translate1.p.rapidapi.com/language/translate/v2\"\n",
    "\n",
    "    long_list_of_words = user_complain.split(' ')\n",
    "    url_encoded_text = f\"q={'%20'.join(long_list_of_words)}&target={target}&source={source}\"\n",
    " \n",
    "    payload = url_encoded_text\n",
    "    headers = {\n",
    "        'content-type': \"application/x-www-form-urlencoded\",\n",
    "        'accept-encoding': \"application/gzip\",\n",
    "        'x-rapidapi-key': \"ad487c78e7mshdfaae5d83f29c4cp1c2eecjsnacf3c5d3b463\",\n",
    "        'x-rapidapi-host': \"google-translate1.p.rapidapi.com\"\n",
    "        }\n",
    "\n",
    "    response = request(\"POST\", url, data=payload, headers=headers)\n",
    "\n",
    "    translation = response.json()\n",
    "    global translated_text\n",
    "    translated_text = translation['data']['translations'][0]['translatedText']\n",
    "    return translated_text.capitalize()"
   ]
  },
  {
   "cell_type": "code",
   "execution_count": 24,
   "id": "111460a7",
   "metadata": {},
   "outputs": [],
   "source": [
    "def team():\n",
    "    with open('complaints.json', 'r') as comp:\n",
    "        complaints = json.load(comp)\n",
    "        print(\"Complaints are listed below:\\n\")\n",
    "        for complaint in complaints:\n",
    "            print(complaint)\n",
    "        select_complaint = input('\\nSelect a complaint by entering the sender name: \\n').title()\n",
    "        for complaint in complaints:\n",
    "            for name, complain in complaint.items():\n",
    "                if select_complaint == name:\n",
    "                    global user_complain\n",
    "                    user_complain = complain\n",
    "                    print(f'\\n{user_complain}\\n')\n",
    "    \n",
    "    detect_language()\n",
    "\n",
    "    print(f\"The complain is in {language} language.\\n\")\n",
    "    translate = input(\"Do you want to translate?  y or n\\n\").lower()\n",
    "    if translate == 'y':\n",
    "        translate_language=input(f\"\\nWhat language do you want to translate to? \\n\\n{list_of_languages}: \\n\\n\").title()\n",
    "        if translate_language in list_of_languages:\n",
    "            index = list_of_languages.index(translate_language)\n",
    "            global target\n",
    "            target = abbr_languages[index]\n",
    "        translate_text()\n",
    "        print('\\nTranslation:')\n",
    "        print(translated_text)"
   ]
  },
  {
   "cell_type": "code",
   "execution_count": 25,
   "id": "a707c395",
   "metadata": {},
   "outputs": [],
   "source": [
    "# user()"
   ]
  },
  {
   "cell_type": "code",
   "execution_count": 26,
   "id": "493fb645",
   "metadata": {},
   "outputs": [],
   "source": [
    "# team()"
   ]
  },
  {
   "cell_type": "code",
   "execution_count": 27,
   "id": "bca7f49d",
   "metadata": {},
   "outputs": [],
   "source": [
    "# translate_text()"
   ]
  },
  {
   "cell_type": "code",
   "execution_count": 28,
   "id": "885b5e4d",
   "metadata": {},
   "outputs": [],
   "source": [
    "# print(detect_language())"
   ]
  },
  {
   "cell_type": "code",
   "execution_count": null,
   "id": "c321c61e",
   "metadata": {},
   "outputs": [],
   "source": []
  }
 ],
 "metadata": {
  "kernelspec": {
   "display_name": "Python 3",
   "language": "python",
   "name": "python3"
  },
  "language_info": {
   "codemirror_mode": {
    "name": "ipython",
    "version": 3
   },
   "file_extension": ".py",
   "mimetype": "text/x-python",
   "name": "python",
   "nbconvert_exporter": "python",
   "pygments_lexer": "ipython3",
   "version": "3.8.8"
  }
 },
 "nbformat": 4,
 "nbformat_minor": 5
}
